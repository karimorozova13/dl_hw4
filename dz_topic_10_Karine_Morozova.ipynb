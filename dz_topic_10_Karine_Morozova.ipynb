{
  "nbformat": 4,
  "nbformat_minor": 0,
  "metadata": {
    "colab": {
      "provenance": []
    },
    "kernelspec": {
      "name": "python3",
      "display_name": "Python 3"
    },
    "language_info": {
      "name": "python"
    },
    "widgets": {
      "application/vnd.jupyter.widget-state+json": {
        "7ea44cf7a727458cb878b9ff97ae6118": {
          "model_module": "@jupyter-widgets/controls",
          "model_name": "HBoxModel",
          "model_module_version": "1.5.0",
          "state": {
            "_dom_classes": [],
            "_model_module": "@jupyter-widgets/controls",
            "_model_module_version": "1.5.0",
            "_model_name": "HBoxModel",
            "_view_count": null,
            "_view_module": "@jupyter-widgets/controls",
            "_view_module_version": "1.5.0",
            "_view_name": "HBoxView",
            "box_style": "",
            "children": [
              "IPY_MODEL_53dba28cfd95432b9e1d43fe50f900a9",
              "IPY_MODEL_7c9681b53fe942e8bd0eeccdb51fda61",
              "IPY_MODEL_11eceb8baf3b4b0686d53d6b4561d30c"
            ],
            "layout": "IPY_MODEL_b2b5ea2a1b84427d874d5ebd725498f2"
          }
        },
        "53dba28cfd95432b9e1d43fe50f900a9": {
          "model_module": "@jupyter-widgets/controls",
          "model_name": "HTMLModel",
          "model_module_version": "1.5.0",
          "state": {
            "_dom_classes": [],
            "_model_module": "@jupyter-widgets/controls",
            "_model_module_version": "1.5.0",
            "_model_name": "HTMLModel",
            "_view_count": null,
            "_view_module": "@jupyter-widgets/controls",
            "_view_module_version": "1.5.0",
            "_view_name": "HTMLView",
            "description": "",
            "description_tooltip": null,
            "layout": "IPY_MODEL_1dc8f2fa4a104adea0ff00b312a0854e",
            "placeholder": "​",
            "style": "IPY_MODEL_7ead6c8f211a41c685242bd29ef388dc",
            "value": "100%"
          }
        },
        "7c9681b53fe942e8bd0eeccdb51fda61": {
          "model_module": "@jupyter-widgets/controls",
          "model_name": "FloatProgressModel",
          "model_module_version": "1.5.0",
          "state": {
            "_dom_classes": [],
            "_model_module": "@jupyter-widgets/controls",
            "_model_module_version": "1.5.0",
            "_model_name": "FloatProgressModel",
            "_view_count": null,
            "_view_module": "@jupyter-widgets/controls",
            "_view_module_version": "1.5.0",
            "_view_name": "ProgressView",
            "bar_style": "success",
            "description": "",
            "description_tooltip": null,
            "layout": "IPY_MODEL_71ebf21918a04d55888d16deded798a0",
            "max": 5169,
            "min": 0,
            "orientation": "horizontal",
            "style": "IPY_MODEL_a79914336851498482ebaeaef5c035d9",
            "value": 5169
          }
        },
        "11eceb8baf3b4b0686d53d6b4561d30c": {
          "model_module": "@jupyter-widgets/controls",
          "model_name": "HTMLModel",
          "model_module_version": "1.5.0",
          "state": {
            "_dom_classes": [],
            "_model_module": "@jupyter-widgets/controls",
            "_model_module_version": "1.5.0",
            "_model_name": "HTMLModel",
            "_view_count": null,
            "_view_module": "@jupyter-widgets/controls",
            "_view_module_version": "1.5.0",
            "_view_name": "HTMLView",
            "description": "",
            "description_tooltip": null,
            "layout": "IPY_MODEL_7c1c279d6010414c810950969b25f3af",
            "placeholder": "​",
            "style": "IPY_MODEL_0eb5c9e0537145a9881a667e3b549a21",
            "value": " 5169/5169 [00:30&lt;00:00, 195.58it/s]"
          }
        },
        "b2b5ea2a1b84427d874d5ebd725498f2": {
          "model_module": "@jupyter-widgets/base",
          "model_name": "LayoutModel",
          "model_module_version": "1.2.0",
          "state": {
            "_model_module": "@jupyter-widgets/base",
            "_model_module_version": "1.2.0",
            "_model_name": "LayoutModel",
            "_view_count": null,
            "_view_module": "@jupyter-widgets/base",
            "_view_module_version": "1.2.0",
            "_view_name": "LayoutView",
            "align_content": null,
            "align_items": null,
            "align_self": null,
            "border": null,
            "bottom": null,
            "display": null,
            "flex": null,
            "flex_flow": null,
            "grid_area": null,
            "grid_auto_columns": null,
            "grid_auto_flow": null,
            "grid_auto_rows": null,
            "grid_column": null,
            "grid_gap": null,
            "grid_row": null,
            "grid_template_areas": null,
            "grid_template_columns": null,
            "grid_template_rows": null,
            "height": null,
            "justify_content": null,
            "justify_items": null,
            "left": null,
            "margin": null,
            "max_height": null,
            "max_width": null,
            "min_height": null,
            "min_width": null,
            "object_fit": null,
            "object_position": null,
            "order": null,
            "overflow": null,
            "overflow_x": null,
            "overflow_y": null,
            "padding": null,
            "right": null,
            "top": null,
            "visibility": null,
            "width": null
          }
        },
        "1dc8f2fa4a104adea0ff00b312a0854e": {
          "model_module": "@jupyter-widgets/base",
          "model_name": "LayoutModel",
          "model_module_version": "1.2.0",
          "state": {
            "_model_module": "@jupyter-widgets/base",
            "_model_module_version": "1.2.0",
            "_model_name": "LayoutModel",
            "_view_count": null,
            "_view_module": "@jupyter-widgets/base",
            "_view_module_version": "1.2.0",
            "_view_name": "LayoutView",
            "align_content": null,
            "align_items": null,
            "align_self": null,
            "border": null,
            "bottom": null,
            "display": null,
            "flex": null,
            "flex_flow": null,
            "grid_area": null,
            "grid_auto_columns": null,
            "grid_auto_flow": null,
            "grid_auto_rows": null,
            "grid_column": null,
            "grid_gap": null,
            "grid_row": null,
            "grid_template_areas": null,
            "grid_template_columns": null,
            "grid_template_rows": null,
            "height": null,
            "justify_content": null,
            "justify_items": null,
            "left": null,
            "margin": null,
            "max_height": null,
            "max_width": null,
            "min_height": null,
            "min_width": null,
            "object_fit": null,
            "object_position": null,
            "order": null,
            "overflow": null,
            "overflow_x": null,
            "overflow_y": null,
            "padding": null,
            "right": null,
            "top": null,
            "visibility": null,
            "width": null
          }
        },
        "7ead6c8f211a41c685242bd29ef388dc": {
          "model_module": "@jupyter-widgets/controls",
          "model_name": "DescriptionStyleModel",
          "model_module_version": "1.5.0",
          "state": {
            "_model_module": "@jupyter-widgets/controls",
            "_model_module_version": "1.5.0",
            "_model_name": "DescriptionStyleModel",
            "_view_count": null,
            "_view_module": "@jupyter-widgets/base",
            "_view_module_version": "1.2.0",
            "_view_name": "StyleView",
            "description_width": ""
          }
        },
        "71ebf21918a04d55888d16deded798a0": {
          "model_module": "@jupyter-widgets/base",
          "model_name": "LayoutModel",
          "model_module_version": "1.2.0",
          "state": {
            "_model_module": "@jupyter-widgets/base",
            "_model_module_version": "1.2.0",
            "_model_name": "LayoutModel",
            "_view_count": null,
            "_view_module": "@jupyter-widgets/base",
            "_view_module_version": "1.2.0",
            "_view_name": "LayoutView",
            "align_content": null,
            "align_items": null,
            "align_self": null,
            "border": null,
            "bottom": null,
            "display": null,
            "flex": null,
            "flex_flow": null,
            "grid_area": null,
            "grid_auto_columns": null,
            "grid_auto_flow": null,
            "grid_auto_rows": null,
            "grid_column": null,
            "grid_gap": null,
            "grid_row": null,
            "grid_template_areas": null,
            "grid_template_columns": null,
            "grid_template_rows": null,
            "height": null,
            "justify_content": null,
            "justify_items": null,
            "left": null,
            "margin": null,
            "max_height": null,
            "max_width": null,
            "min_height": null,
            "min_width": null,
            "object_fit": null,
            "object_position": null,
            "order": null,
            "overflow": null,
            "overflow_x": null,
            "overflow_y": null,
            "padding": null,
            "right": null,
            "top": null,
            "visibility": null,
            "width": null
          }
        },
        "a79914336851498482ebaeaef5c035d9": {
          "model_module": "@jupyter-widgets/controls",
          "model_name": "ProgressStyleModel",
          "model_module_version": "1.5.0",
          "state": {
            "_model_module": "@jupyter-widgets/controls",
            "_model_module_version": "1.5.0",
            "_model_name": "ProgressStyleModel",
            "_view_count": null,
            "_view_module": "@jupyter-widgets/base",
            "_view_module_version": "1.2.0",
            "_view_name": "StyleView",
            "bar_color": null,
            "description_width": ""
          }
        },
        "7c1c279d6010414c810950969b25f3af": {
          "model_module": "@jupyter-widgets/base",
          "model_name": "LayoutModel",
          "model_module_version": "1.2.0",
          "state": {
            "_model_module": "@jupyter-widgets/base",
            "_model_module_version": "1.2.0",
            "_model_name": "LayoutModel",
            "_view_count": null,
            "_view_module": "@jupyter-widgets/base",
            "_view_module_version": "1.2.0",
            "_view_name": "LayoutView",
            "align_content": null,
            "align_items": null,
            "align_self": null,
            "border": null,
            "bottom": null,
            "display": null,
            "flex": null,
            "flex_flow": null,
            "grid_area": null,
            "grid_auto_columns": null,
            "grid_auto_flow": null,
            "grid_auto_rows": null,
            "grid_column": null,
            "grid_gap": null,
            "grid_row": null,
            "grid_template_areas": null,
            "grid_template_columns": null,
            "grid_template_rows": null,
            "height": null,
            "justify_content": null,
            "justify_items": null,
            "left": null,
            "margin": null,
            "max_height": null,
            "max_width": null,
            "min_height": null,
            "min_width": null,
            "object_fit": null,
            "object_position": null,
            "order": null,
            "overflow": null,
            "overflow_x": null,
            "overflow_y": null,
            "padding": null,
            "right": null,
            "top": null,
            "visibility": null,
            "width": null
          }
        },
        "0eb5c9e0537145a9881a667e3b549a21": {
          "model_module": "@jupyter-widgets/controls",
          "model_name": "DescriptionStyleModel",
          "model_module_version": "1.5.0",
          "state": {
            "_model_module": "@jupyter-widgets/controls",
            "_model_module_version": "1.5.0",
            "_model_name": "DescriptionStyleModel",
            "_view_count": null,
            "_view_module": "@jupyter-widgets/base",
            "_view_module_version": "1.2.0",
            "_view_name": "StyleView",
            "description_width": ""
          }
        }
      }
    }
  },
  "cells": [
    {
      "cell_type": "code",
      "execution_count": null,
      "metadata": {
        "colab": {
          "base_uri": "https://localhost:8080/"
        },
        "id": "pNHmZ85VGDgs",
        "outputId": "ba39c104-2083-4440-8862-31ebc90f8aac"
      },
      "outputs": [
        {
          "output_type": "stream",
          "name": "stdout",
          "text": [
            "Mounted at /content/drive\n"
          ]
        }
      ],
      "source": [
        "from google.colab import drive\n",
        "\n",
        "drive.mount('/content/drive')"
      ]
    },
    {
      "cell_type": "code",
      "source": [
        "import re\n",
        "\n",
        "import pandas as pd\n",
        "import numpy as np\n",
        "\n",
        "from nltk.corpus import stopwords\n",
        "from nltk.tokenize import word_tokenize\n",
        "import nltk\n",
        "nltk.download('stopwords')\n",
        "\n",
        "import gensim\n",
        "from gensim.models import word2vec\n",
        "from gensim.scripts.glove2word2vec import glove2word2vec\n",
        "\n",
        "from sklearn.metrics import roc_auc_score\n",
        "from sklearn.metrics import accuracy_score\n",
        "\n",
        "from sklearn.linear_model import LogisticRegression\n",
        "from sklearn.ensemble import RandomForestClassifier\n",
        "\n",
        "import spacy\n",
        "\n",
        "from tqdm.auto import tqdm\n",
        "tqdm.pandas()\n",
        "\n",
        "from sklearn.feature_extraction.text import CountVectorizer\n",
        "from sklearn.feature_extraction.text import TfidfVectorizer\n",
        "\n",
        "from sklearn.impute import SimpleImputer\n",
        "from imblearn.over_sampling import SMOTE"
      ],
      "metadata": {
        "colab": {
          "base_uri": "https://localhost:8080/"
        },
        "id": "tNE1EbbZG2t1",
        "outputId": "07c84d9a-611b-4a64-fa64-e4d6f91bca15"
      },
      "execution_count": null,
      "outputs": [
        {
          "output_type": "stream",
          "name": "stderr",
          "text": [
            "[nltk_data] Downloading package stopwords to /root/nltk_data...\n",
            "[nltk_data]   Package stopwords is already up-to-date!\n"
          ]
        }
      ]
    },
    {
      "cell_type": "code",
      "source": [
        "filepath = '/content/drive/My Drive/dataset/spam.csv'\n",
        "data = pd.read_csv(filepath, encoding = \"ISO-8859-1\")\n",
        "data.shape"
      ],
      "metadata": {
        "colab": {
          "base_uri": "https://localhost:8080/"
        },
        "id": "Yqjh_dzUHCis",
        "outputId": "914c59f3-2c14-4dac-a058-8186c29fa758"
      },
      "execution_count": null,
      "outputs": [
        {
          "output_type": "execute_result",
          "data": {
            "text/plain": [
              "(5572, 5)"
            ]
          },
          "metadata": {},
          "execution_count": 37
        }
      ]
    },
    {
      "cell_type": "code",
      "source": [
        "data.info()"
      ],
      "metadata": {
        "colab": {
          "base_uri": "https://localhost:8080/"
        },
        "id": "blWtUgnOIEIA",
        "outputId": "1913d587-2c54-4ddc-b186-fc3511dc4606"
      },
      "execution_count": null,
      "outputs": [
        {
          "output_type": "stream",
          "name": "stdout",
          "text": [
            "<class 'pandas.core.frame.DataFrame'>\n",
            "RangeIndex: 5572 entries, 0 to 5571\n",
            "Data columns (total 5 columns):\n",
            " #   Column      Non-Null Count  Dtype \n",
            "---  ------      --------------  ----- \n",
            " 0   v1          5572 non-null   object\n",
            " 1   v2          5572 non-null   object\n",
            " 2   Unnamed: 2  50 non-null     object\n",
            " 3   Unnamed: 3  12 non-null     object\n",
            " 4   Unnamed: 4  6 non-null      object\n",
            "dtypes: object(5)\n",
            "memory usage: 217.8+ KB\n"
          ]
        }
      ]
    },
    {
      "cell_type": "code",
      "source": [
        "data.describe()"
      ],
      "metadata": {
        "colab": {
          "base_uri": "https://localhost:8080/",
          "height": 175
        },
        "id": "LaRvqENQIFYO",
        "outputId": "da64dad3-81ea-4a6e-a179-d3fcce6da9e2"
      },
      "execution_count": null,
      "outputs": [
        {
          "output_type": "execute_result",
          "data": {
            "text/plain": [
              "          v1                      v2  \\\n",
              "count   5572                    5572   \n",
              "unique     2                    5169   \n",
              "top      ham  Sorry, I'll call later   \n",
              "freq    4825                      30   \n",
              "\n",
              "                                               Unnamed: 2  \\\n",
              "count                                                  50   \n",
              "unique                                                 43   \n",
              "top      bt not his girlfrnd... G o o d n i g h t . . .@\"   \n",
              "freq                                                    3   \n",
              "\n",
              "                   Unnamed: 3 Unnamed: 4  \n",
              "count                      12          6  \n",
              "unique                     10          5  \n",
              "top      MK17 92H. 450Ppw 16\"    GNT:-)\"  \n",
              "freq                        2          2  "
            ],
            "text/html": [
              "\n",
              "  <div id=\"df-d56910b8-4cce-48d5-8faa-449af9df94de\" class=\"colab-df-container\">\n",
              "    <div>\n",
              "<style scoped>\n",
              "    .dataframe tbody tr th:only-of-type {\n",
              "        vertical-align: middle;\n",
              "    }\n",
              "\n",
              "    .dataframe tbody tr th {\n",
              "        vertical-align: top;\n",
              "    }\n",
              "\n",
              "    .dataframe thead th {\n",
              "        text-align: right;\n",
              "    }\n",
              "</style>\n",
              "<table border=\"1\" class=\"dataframe\">\n",
              "  <thead>\n",
              "    <tr style=\"text-align: right;\">\n",
              "      <th></th>\n",
              "      <th>v1</th>\n",
              "      <th>v2</th>\n",
              "      <th>Unnamed: 2</th>\n",
              "      <th>Unnamed: 3</th>\n",
              "      <th>Unnamed: 4</th>\n",
              "    </tr>\n",
              "  </thead>\n",
              "  <tbody>\n",
              "    <tr>\n",
              "      <th>count</th>\n",
              "      <td>5572</td>\n",
              "      <td>5572</td>\n",
              "      <td>50</td>\n",
              "      <td>12</td>\n",
              "      <td>6</td>\n",
              "    </tr>\n",
              "    <tr>\n",
              "      <th>unique</th>\n",
              "      <td>2</td>\n",
              "      <td>5169</td>\n",
              "      <td>43</td>\n",
              "      <td>10</td>\n",
              "      <td>5</td>\n",
              "    </tr>\n",
              "    <tr>\n",
              "      <th>top</th>\n",
              "      <td>ham</td>\n",
              "      <td>Sorry, I'll call later</td>\n",
              "      <td>bt not his girlfrnd... G o o d n i g h t . . .@\"</td>\n",
              "      <td>MK17 92H. 450Ppw 16\"</td>\n",
              "      <td>GNT:-)\"</td>\n",
              "    </tr>\n",
              "    <tr>\n",
              "      <th>freq</th>\n",
              "      <td>4825</td>\n",
              "      <td>30</td>\n",
              "      <td>3</td>\n",
              "      <td>2</td>\n",
              "      <td>2</td>\n",
              "    </tr>\n",
              "  </tbody>\n",
              "</table>\n",
              "</div>\n",
              "    <div class=\"colab-df-buttons\">\n",
              "\n",
              "  <div class=\"colab-df-container\">\n",
              "    <button class=\"colab-df-convert\" onclick=\"convertToInteractive('df-d56910b8-4cce-48d5-8faa-449af9df94de')\"\n",
              "            title=\"Convert this dataframe to an interactive table.\"\n",
              "            style=\"display:none;\">\n",
              "\n",
              "  <svg xmlns=\"http://www.w3.org/2000/svg\" height=\"24px\" viewBox=\"0 -960 960 960\">\n",
              "    <path d=\"M120-120v-720h720v720H120Zm60-500h600v-160H180v160Zm220 220h160v-160H400v160Zm0 220h160v-160H400v160ZM180-400h160v-160H180v160Zm440 0h160v-160H620v160ZM180-180h160v-160H180v160Zm440 0h160v-160H620v160Z\"/>\n",
              "  </svg>\n",
              "    </button>\n",
              "\n",
              "  <style>\n",
              "    .colab-df-container {\n",
              "      display:flex;\n",
              "      gap: 12px;\n",
              "    }\n",
              "\n",
              "    .colab-df-convert {\n",
              "      background-color: #E8F0FE;\n",
              "      border: none;\n",
              "      border-radius: 50%;\n",
              "      cursor: pointer;\n",
              "      display: none;\n",
              "      fill: #1967D2;\n",
              "      height: 32px;\n",
              "      padding: 0 0 0 0;\n",
              "      width: 32px;\n",
              "    }\n",
              "\n",
              "    .colab-df-convert:hover {\n",
              "      background-color: #E2EBFA;\n",
              "      box-shadow: 0px 1px 2px rgba(60, 64, 67, 0.3), 0px 1px 3px 1px rgba(60, 64, 67, 0.15);\n",
              "      fill: #174EA6;\n",
              "    }\n",
              "\n",
              "    .colab-df-buttons div {\n",
              "      margin-bottom: 4px;\n",
              "    }\n",
              "\n",
              "    [theme=dark] .colab-df-convert {\n",
              "      background-color: #3B4455;\n",
              "      fill: #D2E3FC;\n",
              "    }\n",
              "\n",
              "    [theme=dark] .colab-df-convert:hover {\n",
              "      background-color: #434B5C;\n",
              "      box-shadow: 0px 1px 3px 1px rgba(0, 0, 0, 0.15);\n",
              "      filter: drop-shadow(0px 1px 2px rgba(0, 0, 0, 0.3));\n",
              "      fill: #FFFFFF;\n",
              "    }\n",
              "  </style>\n",
              "\n",
              "    <script>\n",
              "      const buttonEl =\n",
              "        document.querySelector('#df-d56910b8-4cce-48d5-8faa-449af9df94de button.colab-df-convert');\n",
              "      buttonEl.style.display =\n",
              "        google.colab.kernel.accessAllowed ? 'block' : 'none';\n",
              "\n",
              "      async function convertToInteractive(key) {\n",
              "        const element = document.querySelector('#df-d56910b8-4cce-48d5-8faa-449af9df94de');\n",
              "        const dataTable =\n",
              "          await google.colab.kernel.invokeFunction('convertToInteractive',\n",
              "                                                    [key], {});\n",
              "        if (!dataTable) return;\n",
              "\n",
              "        const docLinkHtml = 'Like what you see? Visit the ' +\n",
              "          '<a target=\"_blank\" href=https://colab.research.google.com/notebooks/data_table.ipynb>data table notebook</a>'\n",
              "          + ' to learn more about interactive tables.';\n",
              "        element.innerHTML = '';\n",
              "        dataTable['output_type'] = 'display_data';\n",
              "        await google.colab.output.renderOutput(dataTable, element);\n",
              "        const docLink = document.createElement('div');\n",
              "        docLink.innerHTML = docLinkHtml;\n",
              "        element.appendChild(docLink);\n",
              "      }\n",
              "    </script>\n",
              "  </div>\n",
              "\n",
              "\n",
              "<div id=\"df-9c7f41c1-89b8-48cd-bff0-849c1aaa2ffc\">\n",
              "  <button class=\"colab-df-quickchart\" onclick=\"quickchart('df-9c7f41c1-89b8-48cd-bff0-849c1aaa2ffc')\"\n",
              "            title=\"Suggest charts\"\n",
              "            style=\"display:none;\">\n",
              "\n",
              "<svg xmlns=\"http://www.w3.org/2000/svg\" height=\"24px\"viewBox=\"0 0 24 24\"\n",
              "     width=\"24px\">\n",
              "    <g>\n",
              "        <path d=\"M19 3H5c-1.1 0-2 .9-2 2v14c0 1.1.9 2 2 2h14c1.1 0 2-.9 2-2V5c0-1.1-.9-2-2-2zM9 17H7v-7h2v7zm4 0h-2V7h2v10zm4 0h-2v-4h2v4z\"/>\n",
              "    </g>\n",
              "</svg>\n",
              "  </button>\n",
              "\n",
              "<style>\n",
              "  .colab-df-quickchart {\n",
              "      --bg-color: #E8F0FE;\n",
              "      --fill-color: #1967D2;\n",
              "      --hover-bg-color: #E2EBFA;\n",
              "      --hover-fill-color: #174EA6;\n",
              "      --disabled-fill-color: #AAA;\n",
              "      --disabled-bg-color: #DDD;\n",
              "  }\n",
              "\n",
              "  [theme=dark] .colab-df-quickchart {\n",
              "      --bg-color: #3B4455;\n",
              "      --fill-color: #D2E3FC;\n",
              "      --hover-bg-color: #434B5C;\n",
              "      --hover-fill-color: #FFFFFF;\n",
              "      --disabled-bg-color: #3B4455;\n",
              "      --disabled-fill-color: #666;\n",
              "  }\n",
              "\n",
              "  .colab-df-quickchart {\n",
              "    background-color: var(--bg-color);\n",
              "    border: none;\n",
              "    border-radius: 50%;\n",
              "    cursor: pointer;\n",
              "    display: none;\n",
              "    fill: var(--fill-color);\n",
              "    height: 32px;\n",
              "    padding: 0;\n",
              "    width: 32px;\n",
              "  }\n",
              "\n",
              "  .colab-df-quickchart:hover {\n",
              "    background-color: var(--hover-bg-color);\n",
              "    box-shadow: 0 1px 2px rgba(60, 64, 67, 0.3), 0 1px 3px 1px rgba(60, 64, 67, 0.15);\n",
              "    fill: var(--button-hover-fill-color);\n",
              "  }\n",
              "\n",
              "  .colab-df-quickchart-complete:disabled,\n",
              "  .colab-df-quickchart-complete:disabled:hover {\n",
              "    background-color: var(--disabled-bg-color);\n",
              "    fill: var(--disabled-fill-color);\n",
              "    box-shadow: none;\n",
              "  }\n",
              "\n",
              "  .colab-df-spinner {\n",
              "    border: 2px solid var(--fill-color);\n",
              "    border-color: transparent;\n",
              "    border-bottom-color: var(--fill-color);\n",
              "    animation:\n",
              "      spin 1s steps(1) infinite;\n",
              "  }\n",
              "\n",
              "  @keyframes spin {\n",
              "    0% {\n",
              "      border-color: transparent;\n",
              "      border-bottom-color: var(--fill-color);\n",
              "      border-left-color: var(--fill-color);\n",
              "    }\n",
              "    20% {\n",
              "      border-color: transparent;\n",
              "      border-left-color: var(--fill-color);\n",
              "      border-top-color: var(--fill-color);\n",
              "    }\n",
              "    30% {\n",
              "      border-color: transparent;\n",
              "      border-left-color: var(--fill-color);\n",
              "      border-top-color: var(--fill-color);\n",
              "      border-right-color: var(--fill-color);\n",
              "    }\n",
              "    40% {\n",
              "      border-color: transparent;\n",
              "      border-right-color: var(--fill-color);\n",
              "      border-top-color: var(--fill-color);\n",
              "    }\n",
              "    60% {\n",
              "      border-color: transparent;\n",
              "      border-right-color: var(--fill-color);\n",
              "    }\n",
              "    80% {\n",
              "      border-color: transparent;\n",
              "      border-right-color: var(--fill-color);\n",
              "      border-bottom-color: var(--fill-color);\n",
              "    }\n",
              "    90% {\n",
              "      border-color: transparent;\n",
              "      border-bottom-color: var(--fill-color);\n",
              "    }\n",
              "  }\n",
              "</style>\n",
              "\n",
              "  <script>\n",
              "    async function quickchart(key) {\n",
              "      const quickchartButtonEl =\n",
              "        document.querySelector('#' + key + ' button');\n",
              "      quickchartButtonEl.disabled = true;  // To prevent multiple clicks.\n",
              "      quickchartButtonEl.classList.add('colab-df-spinner');\n",
              "      try {\n",
              "        const charts = await google.colab.kernel.invokeFunction(\n",
              "            'suggestCharts', [key], {});\n",
              "      } catch (error) {\n",
              "        console.error('Error during call to suggestCharts:', error);\n",
              "      }\n",
              "      quickchartButtonEl.classList.remove('colab-df-spinner');\n",
              "      quickchartButtonEl.classList.add('colab-df-quickchart-complete');\n",
              "    }\n",
              "    (() => {\n",
              "      let quickchartButtonEl =\n",
              "        document.querySelector('#df-9c7f41c1-89b8-48cd-bff0-849c1aaa2ffc button');\n",
              "      quickchartButtonEl.style.display =\n",
              "        google.colab.kernel.accessAllowed ? 'block' : 'none';\n",
              "    })();\n",
              "  </script>\n",
              "</div>\n",
              "\n",
              "    </div>\n",
              "  </div>\n"
            ],
            "application/vnd.google.colaboratory.intrinsic+json": {
              "type": "dataframe",
              "summary": "{\n  \"name\": \"data\",\n  \"rows\": 4,\n  \"fields\": [\n    {\n      \"column\": \"v1\",\n      \"properties\": {\n        \"dtype\": \"string\",\n        \"num_unique_values\": 4,\n        \"samples\": [\n          2,\n          \"4825\",\n          \"5572\"\n        ],\n        \"semantic_type\": \"\",\n        \"description\": \"\"\n      }\n    },\n    {\n      \"column\": \"v2\",\n      \"properties\": {\n        \"dtype\": \"string\",\n        \"num_unique_values\": 4,\n        \"samples\": [\n          5169,\n          \"30\",\n          \"5572\"\n        ],\n        \"semantic_type\": \"\",\n        \"description\": \"\"\n      }\n    },\n    {\n      \"column\": \"Unnamed: 2\",\n      \"properties\": {\n        \"dtype\": \"string\",\n        \"num_unique_values\": 4,\n        \"samples\": [\n          43,\n          \"3\",\n          \"50\"\n        ],\n        \"semantic_type\": \"\",\n        \"description\": \"\"\n      }\n    },\n    {\n      \"column\": \"Unnamed: 3\",\n      \"properties\": {\n        \"dtype\": \"string\",\n        \"num_unique_values\": 4,\n        \"samples\": [\n          10,\n          \"2\",\n          \"12\"\n        ],\n        \"semantic_type\": \"\",\n        \"description\": \"\"\n      }\n    },\n    {\n      \"column\": \"Unnamed: 4\",\n      \"properties\": {\n        \"dtype\": \"string\",\n        \"num_unique_values\": 4,\n        \"samples\": [\n          5,\n          \"2\",\n          \"6\"\n        ],\n        \"semantic_type\": \"\",\n        \"description\": \"\"\n      }\n    }\n  ]\n}"
            }
          },
          "metadata": {},
          "execution_count": 39
        }
      ]
    },
    {
      "cell_type": "code",
      "source": [
        "data = data.drop_duplicates().reset_index(drop=True)"
      ],
      "metadata": {
        "id": "UKDgmXWRIKIO"
      },
      "execution_count": null,
      "outputs": []
    },
    {
      "cell_type": "code",
      "source": [
        "data = data[['v1', 'v2']]"
      ],
      "metadata": {
        "id": "mBZ1gxvBIwrG"
      },
      "execution_count": null,
      "outputs": []
    },
    {
      "cell_type": "code",
      "source": [
        "data.info()"
      ],
      "metadata": {
        "colab": {
          "base_uri": "https://localhost:8080/"
        },
        "id": "TgAVFAPxIozV",
        "outputId": "a844c12e-32fb-4b45-ea2d-b7d5053e113b"
      },
      "execution_count": null,
      "outputs": [
        {
          "output_type": "stream",
          "name": "stdout",
          "text": [
            "<class 'pandas.core.frame.DataFrame'>\n",
            "RangeIndex: 5169 entries, 0 to 5168\n",
            "Data columns (total 2 columns):\n",
            " #   Column  Non-Null Count  Dtype \n",
            "---  ------  --------------  ----- \n",
            " 0   v1      5169 non-null   object\n",
            " 1   v2      5169 non-null   object\n",
            "dtypes: object(2)\n",
            "memory usage: 80.9+ KB\n"
          ]
        }
      ]
    },
    {
      "cell_type": "code",
      "source": [
        "contractions = {\n",
        "\"ain't\": \"am not\",\n",
        "\"aren't\": \"are not\",\n",
        "\"can't\": \"cannot\",\n",
        "\"can't've\": \"cannot have\",\n",
        "\"'cause\": \"because\",\n",
        "\"could've\": \"could have\",\n",
        "\"couldn't\": \"could not\",\n",
        "\"couldn't've\": \"could not have\",\n",
        "\"didn't\": \"did not\",\n",
        "\"doesn't\": \"does not\",\n",
        "\"don't\": \"do not\",\n",
        "\"hadn't\": \"had not\",\n",
        "\"hadn't've\": \"had not have\",\n",
        "\"hasn't\": \"has not\",\n",
        "\"haven't\": \"have not\",\n",
        "\"he'd\": \"he would\",\n",
        "\"he'd've\": \"he would have\",\n",
        "\"he'll\": \"he will\",\n",
        "\"he's\": \"he is\",\n",
        "\"how'd\": \"how did\",\n",
        "\"how'll\": \"how will\",\n",
        "\"how's\": \"how is\",\n",
        "\"i'd\": \"i would\",\n",
        "\"i'll\": \"i will\",\n",
        "\"i'm\": \"i am\",\n",
        "\"i've\": \"i have\",\n",
        "\"isn't\": \"is not\",\n",
        "\"it'd\": \"it would\",\n",
        "\"it'll\": \"it will\",\n",
        "\"it's\": \"it is\",\n",
        "\"let's\": \"let us\",\n",
        "\"ma'am\": \"madam\",\n",
        "\"mayn't\": \"may not\",\n",
        "\"might've\": \"might have\",\n",
        "\"mightn't\": \"might not\",\n",
        "\"must've\": \"must have\",\n",
        "\"mustn't\": \"must not\",\n",
        "\"needn't\": \"need not\",\n",
        "\"oughtn't\": \"ought not\",\n",
        "\"shan't\": \"shall not\",\n",
        "\"sha'n't\": \"shall not\",\n",
        "\"she'd\": \"she would\",\n",
        "\"she'll\": \"she will\",\n",
        "\"she's\": \"she is\",\n",
        "\"should've\": \"should have\",\n",
        "\"shouldn't\": \"should not\",\n",
        "\"that'd\": \"that would\",\n",
        "\"that's\": \"that is\",\n",
        "\"there'd\": \"there had\",\n",
        "\"there's\": \"there is\",\n",
        "\"they'd\": \"they would\",\n",
        "\"they'll\": \"they will\",\n",
        "\"they're\": \"they are\",\n",
        "\"they've\": \"they have\",\n",
        "\"wasn't\": \"was not\",\n",
        "\"we'd\": \"we would\",\n",
        "\"we'll\": \"we will\",\n",
        "\"we're\": \"we are\",\n",
        "\"we've\": \"we have\",\n",
        "\"weren't\": \"were not\",\n",
        "\"what'll\": \"what will\",\n",
        "\"what're\": \"what are\",\n",
        "\"what's\": \"what is\",\n",
        "\"what've\": \"what have\",\n",
        "\"where'd\": \"where did\",\n",
        "\"where's\": \"where is\",\n",
        "\"who'll\": \"who will\",\n",
        "\"who's\": \"who is\",\n",
        "\"won't\": \"will not\",\n",
        "\"wouldn't\": \"would not\",\n",
        "\"you'd\": \"you would\",\n",
        "\"you'll\": \"you will\",\n",
        "\"you're\": \"you are\"\n",
        "}"
      ],
      "metadata": {
        "id": "FoS6ltq6JBRF"
      },
      "execution_count": null,
      "outputs": []
    },
    {
      "cell_type": "code",
      "source": [
        "stop_words = set(stopwords.words('english')).union({'also', 'would', 'much', 'many'})\n",
        "\n",
        "negations = {\n",
        "    'aren',\n",
        "    \"aren't\",\n",
        "    'couldn',\n",
        "    \"couldn't\",\n",
        "    'didn',\n",
        "    \"didn't\",\n",
        "    'doesn',\n",
        "    \"doesn't\",\n",
        "    'don',\n",
        "    \"don't\",\n",
        "    'hadn',\n",
        "    \"hadn't\",\n",
        "    'hasn',\n",
        "    \"hasn't\",\n",
        "    'haven',\n",
        "    \"haven't\",\n",
        "    'isn',\n",
        "    \"isn't\",\n",
        "    'mightn',\n",
        "    \"mightn't\",\n",
        "    'mustn',\n",
        "    \"mustn't\",\n",
        "    'needn',\n",
        "    \"needn't\",\n",
        "    'no',\n",
        "    'nor',\n",
        "    'not',\n",
        "    'shan',\n",
        "    \"shan't\",\n",
        "    'shouldn',\n",
        "    \"shouldn't\",\n",
        "    'wasn',\n",
        "    \"wasn't\",\n",
        "    'weren',\n",
        "    \"weren't\",\n",
        "    'won',\n",
        "    \"won't\",\n",
        "    'wouldn',\n",
        "    \"wouldn't\"\n",
        "}\n",
        "\n",
        "stop_words = stop_words.difference(negations)"
      ],
      "metadata": {
        "id": "RswEYYLuJLvM"
      },
      "execution_count": null,
      "outputs": []
    },
    {
      "cell_type": "code",
      "source": [
        "nlp = spacy.load(\"en_core_web_sm\", disable = ['parser','ner'])\n",
        "\n",
        "def normalize_text(raw_review):\n",
        "\n",
        "    # Remove html tags\n",
        "    text = re.sub(\"<[^>]*>\", \" \", raw_review)\n",
        "\n",
        "    # Remove emails\n",
        "    text = re.sub(\"\\S*@\\S*[\\s]+\", \" \", text)\n",
        "\n",
        "    # remove links\n",
        "    text = re.sub(\"https?:\\/\\/.*?[\\s]+\", \" \", text)\n",
        "\n",
        "     # Convert to lower case, split into individual words\n",
        "    text = text.lower().split()\n",
        "\n",
        "    # Replace contractions with their full versions\n",
        "    text = [contractions.get(word) if word in contractions else word\n",
        "            for word in text]\n",
        "\n",
        "    # Re-splitting for the correct stop-words extraction\n",
        "    text = \" \".join(text).split()\n",
        "\n",
        "    # Remove stop words\n",
        "    text = [word for word in text if not word in stop_words]\n",
        "\n",
        "    text = \" \".join(text)\n",
        "\n",
        "    # Remove non-letters\n",
        "    text = re.sub(\"[^a-zA-Z' ]\", \"\", text)\n",
        "\n",
        "    # Lemmatize words. Need to define lemmatizer above\n",
        "    doc = nlp(text)\n",
        "    text = \" \".join([token.lemma_ for token in doc if len(token.lemma_) > 1 ])\n",
        "\n",
        "    # Remove excesive whitespaces\n",
        "    text = re.sub(\"[\\s]+\", \" \", text)\n",
        "\n",
        "    return(text)"
      ],
      "metadata": {
        "id": "ZLS-0BnOJiqT"
      },
      "execution_count": null,
      "outputs": []
    },
    {
      "cell_type": "code",
      "source": [
        "data['email_normalized'] = data['v2'].progress_apply(normalize_text)"
      ],
      "metadata": {
        "colab": {
          "base_uri": "https://localhost:8080/",
          "height": 49,
          "referenced_widgets": [
            "7ea44cf7a727458cb878b9ff97ae6118",
            "53dba28cfd95432b9e1d43fe50f900a9",
            "7c9681b53fe942e8bd0eeccdb51fda61",
            "11eceb8baf3b4b0686d53d6b4561d30c",
            "b2b5ea2a1b84427d874d5ebd725498f2",
            "1dc8f2fa4a104adea0ff00b312a0854e",
            "7ead6c8f211a41c685242bd29ef388dc",
            "71ebf21918a04d55888d16deded798a0",
            "a79914336851498482ebaeaef5c035d9",
            "7c1c279d6010414c810950969b25f3af",
            "0eb5c9e0537145a9881a667e3b549a21"
          ]
        },
        "id": "r1t_psx4KZCV",
        "outputId": "fe0d2255-f956-4772-890d-e24ef982635c"
      },
      "execution_count": null,
      "outputs": [
        {
          "output_type": "display_data",
          "data": {
            "text/plain": [
              "  0%|          | 0/5169 [00:00<?, ?it/s]"
            ],
            "application/vnd.jupyter.widget-view+json": {
              "version_major": 2,
              "version_minor": 0,
              "model_id": "7ea44cf7a727458cb878b9ff97ae6118"
            }
          },
          "metadata": {}
        }
      ]
    },
    {
      "cell_type": "code",
      "source": [
        "data['spam'] = [1 if val == 'spam' else 0 for val in data['v1']]"
      ],
      "metadata": {
        "id": "rAZUcoI-ZnVS"
      },
      "execution_count": null,
      "outputs": []
    },
    {
      "cell_type": "code",
      "source": [
        "train_idxs = data.sample(frac=0.8, random_state=42).index\n",
        "test_idxs = [idx for idx in data.index if idx not in train_idxs]"
      ],
      "metadata": {
        "id": "Wb4he1wVnDX6"
      },
      "execution_count": null,
      "outputs": []
    },
    {
      "cell_type": "code",
      "source": [
        "def get_preds(text_column, model_name, algorithm, ngrams=(1,1)):\n",
        "\n",
        "    X_train = data.loc[train_idxs, text_column]\n",
        "    X_test = data.loc[test_idxs, text_column]\n",
        "\n",
        "    y_train = data.loc[train_idxs, 'spam']\n",
        "    y_test = data.loc[test_idxs, 'spam']\n",
        "\n",
        "    if algorithm == 'cv':\n",
        "        vect = CountVectorizer(ngram_range=ngrams).fit(X_train)\n",
        "    elif algorithm == 'tfidf':\n",
        "        vect = TfidfVectorizer(ngram_range=ngrams).fit(X_train)\n",
        "    else:\n",
        "        raise ValueError('Select correct algorithm: `cv` or `tfidf`')\n",
        "\n",
        "    print('Vocabulary length: ', len(vect.vocabulary_))\n",
        "\n",
        "    # transform the documents in the training data to a document-term matrix\n",
        "\n",
        "    X_train_vectorized = vect.transform(X_train)\n",
        "    print('Document-term matrix shape:', X_train_vectorized.shape)\n",
        "\n",
        "    if model_name == 'logistic_regression':\n",
        "      model = LogisticRegression(random_state=42)\n",
        "    elif model_name =='random_forest':\n",
        "      model = RandomForestClassifier(n_jobs=1, random_state=42)\n",
        "\n",
        "    model.fit(X_train_vectorized, y_train)\n",
        "\n",
        "    predictions = model.predict(vect.transform(X_test))\n",
        "\n",
        "    print('Algorithm: ', algorithm.upper())\n",
        "    print('Model: ', model_name)\n",
        "    print('Text: ', text_column)\n",
        "    print('AUC: ', roc_auc_score(y_test, predictions))\n",
        "    print('Accuracy: ', accuracy_score(y_test, predictions))"
      ],
      "metadata": {
        "id": "eQvU1bvknZoL"
      },
      "execution_count": null,
      "outputs": []
    },
    {
      "cell_type": "code",
      "source": [
        "get_preds('v2', 'logistic_regression', 'cv')"
      ],
      "metadata": {
        "colab": {
          "base_uri": "https://localhost:8080/"
        },
        "id": "Vua1IjrEnZqy",
        "outputId": "15ea4e11-c61f-4c36-c7a6-c9322c725c24"
      },
      "execution_count": null,
      "outputs": [
        {
          "output_type": "stream",
          "name": "stdout",
          "text": [
            "Vocabulary length:  7617\n",
            "Document-term matrix shape: (4135, 7617)\n",
            "Algorithm:  CV\n",
            "Model:  logistic_regression\n",
            "Text:  v2\n",
            "AUC:  0.9342616670860946\n",
            "Accuracy:  0.9825918762088974\n"
          ]
        }
      ]
    },
    {
      "cell_type": "code",
      "source": [
        "get_preds('v2', 'random_forest', 'cv')"
      ],
      "metadata": {
        "colab": {
          "base_uri": "https://localhost:8080/"
        },
        "id": "yxD-mtWFCNXl",
        "outputId": "814e3a3a-6a79-495d-987f-cc3be6dc0c7b"
      },
      "execution_count": null,
      "outputs": [
        {
          "output_type": "stream",
          "name": "stdout",
          "text": [
            "Vocabulary length:  7617\n",
            "Document-term matrix shape: (4135, 7617)\n",
            "Algorithm:  CV\n",
            "Model:  random_forest\n",
            "Text:  v2\n",
            "AUC:  0.8931623931623931\n",
            "Accuracy:  0.9758220502901354\n"
          ]
        }
      ]
    },
    {
      "cell_type": "code",
      "source": [
        "get_preds('email_normalized', 'logistic_regression', 'cv')"
      ],
      "metadata": {
        "colab": {
          "base_uri": "https://localhost:8080/"
        },
        "id": "zSZw4GwX6sod",
        "outputId": "fbafd7be-9bad-465b-a27d-05a2a12a538e"
      },
      "execution_count": null,
      "outputs": [
        {
          "output_type": "stream",
          "name": "stdout",
          "text": [
            "Vocabulary length:  6403\n",
            "Document-term matrix shape: (4135, 6403)\n",
            "Algorithm:  CV\n",
            "Model:  logistic_regression\n",
            "Text:  email_normalized\n",
            "AUC:  0.9219864105360289\n",
            "Accuracy:  0.9806576402321083\n"
          ]
        }
      ]
    },
    {
      "cell_type": "code",
      "source": [
        "get_preds('email_normalized', 'random_forest', 'cv')"
      ],
      "metadata": {
        "colab": {
          "base_uri": "https://localhost:8080/"
        },
        "id": "6hjS5I8JCcZd",
        "outputId": "d6b3ff07-aaed-41f8-c157-49033da3b152"
      },
      "execution_count": null,
      "outputs": [
        {
          "output_type": "stream",
          "name": "stdout",
          "text": [
            "Vocabulary length:  6403\n",
            "Document-term matrix shape: (4135, 6403)\n",
            "Algorithm:  CV\n",
            "Model:  random_forest\n",
            "Text:  email_normalized\n",
            "AUC:  0.8717948717948718\n",
            "Accuracy:  0.9709864603481625\n"
          ]
        }
      ]
    },
    {
      "cell_type": "code",
      "source": [
        "get_preds('v2', 'logistic_regression', 'tfidf')"
      ],
      "metadata": {
        "colab": {
          "base_uri": "https://localhost:8080/"
        },
        "id": "5PzKUWdR6hYe",
        "outputId": "5e191fc8-3054-4fdc-9212-5fb97b7cd2aa"
      },
      "execution_count": null,
      "outputs": [
        {
          "output_type": "stream",
          "name": "stdout",
          "text": [
            "Vocabulary length:  7617\n",
            "Document-term matrix shape: (4135, 7617)\n",
            "Algorithm:  TFIDF\n",
            "Model:  logistic_regression\n",
            "Text:  v2\n",
            "AUC:  0.8450633336129519\n",
            "Accuracy:  0.9632495164410058\n"
          ]
        }
      ]
    },
    {
      "cell_type": "code",
      "source": [
        "get_preds('v2', 'random_forest', 'tfidf')"
      ],
      "metadata": {
        "colab": {
          "base_uri": "https://localhost:8080/"
        },
        "id": "D3BlqWXRCnxT",
        "outputId": "82afb5d5-546a-4c9d-dd71-e85a72570549"
      },
      "execution_count": null,
      "outputs": [
        {
          "output_type": "stream",
          "name": "stdout",
          "text": [
            "Vocabulary length:  7617\n",
            "Document-term matrix shape: (4135, 7617)\n",
            "Algorithm:  TFIDF\n",
            "Model:  random_forest\n",
            "Text:  v2\n",
            "AUC:  0.8846153846153846\n",
            "Accuracy:  0.9738878143133463\n"
          ]
        }
      ]
    },
    {
      "cell_type": "code",
      "source": [
        "get_preds('email_normalized', 'logistic_regression', 'tfidf')"
      ],
      "metadata": {
        "colab": {
          "base_uri": "https://localhost:8080/"
        },
        "id": "Jc1j_06k6ha1",
        "outputId": "b452fee6-3cce-4fce-da68-dc4c2b3c969e"
      },
      "execution_count": null,
      "outputs": [
        {
          "output_type": "stream",
          "name": "stdout",
          "text": [
            "Vocabulary length:  6403\n",
            "Document-term matrix shape: (4135, 6403)\n",
            "Algorithm:  TFIDF\n",
            "Model:  logistic_regression\n",
            "Text:  email_normalized\n",
            "AUC:  0.8066017951514135\n",
            "Accuracy:  0.9545454545454546\n"
          ]
        }
      ]
    },
    {
      "cell_type": "code",
      "source": [
        "get_preds('email_normalized', 'random_forest', 'tfidf')"
      ],
      "metadata": {
        "colab": {
          "base_uri": "https://localhost:8080/"
        },
        "id": "5hOYShbVCvVw",
        "outputId": "218332df-13f6-4150-d976-bee276122a6f"
      },
      "execution_count": null,
      "outputs": [
        {
          "output_type": "stream",
          "name": "stdout",
          "text": [
            "Vocabulary length:  6403\n",
            "Document-term matrix shape: (4135, 6403)\n",
            "Algorithm:  TFIDF\n",
            "Model:  random_forest\n",
            "Text:  email_normalized\n",
            "AUC:  0.8888888888888888\n",
            "Accuracy:  0.9748549323017408\n"
          ]
        }
      ]
    },
    {
      "cell_type": "code",
      "source": [
        "get_preds('email_normalized', 'logistic_regression', 'tfidf', (1,2))"
      ],
      "metadata": {
        "colab": {
          "base_uri": "https://localhost:8080/"
        },
        "id": "Jpr-qR4N6hf1",
        "outputId": "fc745177-4163-4366-d6c3-1827687a02b6"
      },
      "execution_count": null,
      "outputs": [
        {
          "output_type": "stream",
          "name": "stdout",
          "text": [
            "Vocabulary length:  30968\n",
            "Document-term matrix shape: (4135, 30968)\n",
            "Algorithm:  TFIDF\n",
            "Model:  logistic_regression\n",
            "Text:  email_normalized\n",
            "AUC:  0.7889625217869494\n",
            "Accuracy:  0.9497098646034816\n"
          ]
        }
      ]
    },
    {
      "cell_type": "code",
      "source": [
        "get_preds('email_normalized', 'random_forest', 'tfidf', (1,2))\n"
      ],
      "metadata": {
        "colab": {
          "base_uri": "https://localhost:8080/"
        },
        "id": "OynoHwDCC0Kh",
        "outputId": "18e15986-4848-4e7e-d98a-037c06a59c52"
      },
      "execution_count": null,
      "outputs": [
        {
          "output_type": "stream",
          "name": "stdout",
          "text": [
            "Vocabulary length:  30968\n",
            "Document-term matrix shape: (4135, 30968)\n",
            "Algorithm:  TFIDF\n",
            "Model:  random_forest\n",
            "Text:  email_normalized\n",
            "AUC:  0.8333333333333333\n",
            "Accuracy:  0.9622823984526112\n"
          ]
        }
      ]
    },
    {
      "cell_type": "code",
      "source": [
        "get_preds('email_normalized', 'logistic_regression', 'cv', (2,2))"
      ],
      "metadata": {
        "colab": {
          "base_uri": "https://localhost:8080/"
        },
        "id": "WPJiXJ3B6hk1",
        "outputId": "5e975d5d-4c13-4485-cd93-6079a2182534"
      },
      "execution_count": null,
      "outputs": [
        {
          "output_type": "stream",
          "name": "stdout",
          "text": [
            "Vocabulary length:  24565\n",
            "Document-term matrix shape: (4135, 24565)\n",
            "Algorithm:  CV\n",
            "Model:  logistic_regression\n",
            "Text:  email_normalized\n",
            "AUC:  0.7735042735042735\n",
            "Accuracy:  0.9487427466150871\n"
          ]
        }
      ]
    },
    {
      "cell_type": "code",
      "source": [
        "get_preds('email_normalized', 'random_forest','cv', (2,2))\n"
      ],
      "metadata": {
        "colab": {
          "base_uri": "https://localhost:8080/"
        },
        "id": "5z7weOODDAzx",
        "outputId": "158af5f1-6995-417a-ff17-dff248e54ab0"
      },
      "execution_count": null,
      "outputs": [
        {
          "output_type": "stream",
          "name": "stdout",
          "text": [
            "Vocabulary length:  24565\n",
            "Document-term matrix shape: (4135, 24565)\n",
            "Algorithm:  CV\n",
            "Model:  random_forest\n",
            "Text:  email_normalized\n",
            "AUC:  0.7948717948717949\n",
            "Accuracy:  0.9535783365570599\n"
          ]
        }
      ]
    },
    {
      "cell_type": "code",
      "source": [
        "get_preds('v2', 'logistic_regression', 'cv', (2,2))"
      ],
      "metadata": {
        "colab": {
          "base_uri": "https://localhost:8080/"
        },
        "id": "tf3qfzTT7BjW",
        "outputId": "3e92891b-4d69-4fc9-c5a1-8a19d9ffb62d"
      },
      "execution_count": null,
      "outputs": [
        {
          "output_type": "stream",
          "name": "stdout",
          "text": [
            "Vocabulary length:  34655\n",
            "Document-term matrix shape: (4135, 34655)\n",
            "Algorithm:  CV\n",
            "Model:  logistic_regression\n",
            "Text:  v2\n",
            "AUC:  0.8034188034188035\n",
            "Accuracy:  0.9555125725338491\n"
          ]
        }
      ]
    },
    {
      "cell_type": "code",
      "source": [
        "get_preds('v2', 'random_forest', 'cv', (2,2))"
      ],
      "metadata": {
        "colab": {
          "base_uri": "https://localhost:8080/"
        },
        "id": "yapICj-ZDS_G",
        "outputId": "45aebb50-20e6-47fa-dedf-289f99bac7e1"
      },
      "execution_count": null,
      "outputs": [
        {
          "output_type": "stream",
          "name": "stdout",
          "text": [
            "Vocabulary length:  34655\n",
            "Document-term matrix shape: (4135, 34655)\n",
            "Algorithm:  CV\n",
            "Model:  random_forest\n",
            "Text:  v2\n",
            "AUC:  0.8205128205128205\n",
            "Accuracy:  0.9593810444874274\n"
          ]
        }
      ]
    },
    {
      "cell_type": "code",
      "source": [
        "def build_corpus(data):\n",
        "    \"Creates a list of lists containing words from each sentence\"\n",
        "    corpus = []\n",
        "    for sentence in data:\n",
        "        word_list = sentence.split(\" \")\n",
        "        corpus.append(word_list)\n",
        "\n",
        "    return corpus"
      ],
      "metadata": {
        "id": "Pcx6ea6wKesj"
      },
      "execution_count": null,
      "outputs": []
    },
    {
      "cell_type": "code",
      "source": [
        "corpus = build_corpus(data['email_normalized'])"
      ],
      "metadata": {
        "id": "LvpRspYOLzn1"
      },
      "execution_count": null,
      "outputs": []
    },
    {
      "cell_type": "code",
      "source": [
        "class WordEmbedding:\n",
        "\n",
        "    def __init__(self):\n",
        "        self.model = {}\n",
        "\n",
        "    def convert(self, source, ipnut_file_path, output_file_path):\n",
        "\n",
        "        # Converts word embeddings from GloVe format to Word2Vec format\n",
        "        if source == 'glove':\n",
        "            glove2word2vec(ipnut_file_path, output_file_path)\n",
        "        elif source in ['word2vec', 'fasttext']:\n",
        "            pass\n",
        "        else:\n",
        "            raise ValueError('Possible value of source are glove, word2vec or fasttext')\n",
        "\n",
        "    def load(self, source, file_path):\n",
        "\n",
        "        # Loads a specified word embedding model from a file\n",
        "        if source in ['glove', 'fasttext']:\n",
        "            self.model[source] = gensim.models.KeyedVectors.load_word2vec_format(file_path)\n",
        "        elif source == 'word2vec':\n",
        "            self.model[source] = gensim.models.KeyedVectors.load_word2vec_format(file_path, binary=True)\n",
        "        else:\n",
        "            raise ValueError('Possible value of source are glove, word2vec or fasttext')\n",
        "\n",
        "        return self\n",
        "\n",
        "    def get_model(self, source):\n",
        "\n",
        "        # Retrieves the loaded word embedding model\n",
        "        if source not in ['glove', 'word2vec', 'fasttext']:\n",
        "            raise ValueError('Possible value of source are glove, word2vec or fasttext')\n",
        "\n",
        "        return self.model[source]\n",
        "\n",
        "    def get_words(self, source, size=None):\n",
        "\n",
        "        # Retrieves a list of words from the model\n",
        "        if source not in ['glove', 'word2vec', 'fasttext']:\n",
        "            raise ValueError('Possible value of source are glove, word2vec or fasttext')\n",
        "\n",
        "        if size is None:\n",
        "            return [w for w in self.get_model(source=source).key_to_index]\n",
        "        else:\n",
        "            results = []\n",
        "            for i, word in enumerate(self.get_model(source=source).key_to_index):\n",
        "                if i >= size:\n",
        "                    break\n",
        "                results.append(word)\n",
        "            return results\n",
        "\n",
        "        return Exception('Unexpected flow')\n",
        "\n",
        "    def get_dimension(self, source):\n",
        "\n",
        "        # Retrieves the dimension of word vectors in the model\n",
        "        if source not in ['glove', 'word2vec', 'fasttext']:\n",
        "            raise ValueError('Possible value of source are glove, word2vec or fasttext')\n",
        "\n",
        "        return self.get_model(source=source).vectors[0].shape[0]\n",
        "\n",
        "    def get_vectors(self, source, words=None):\n",
        "\n",
        "        # Retrieves vectors for specified words or for all words in the model\n",
        "        if source not in ['glove', 'word2vec', 'fasttext']:\n",
        "            raise ValueError('Possible value of source are glove, word2vec or fasttext')\n",
        "\n",
        "        if words is None:\n",
        "            words = self.get_words(source=source)\n",
        "\n",
        "        embedding = np.empty((len(words), self.get_dimension(source=source)), dtype=np.float32)\n",
        "        for i, word in enumerate(words):\n",
        "            embedding[i] = self.get_vector(source=source, word=word)\n",
        "\n",
        "        return embedding\n",
        "\n",
        "    def get_vector(self, source, word):\n",
        "\n",
        "        # Retrieves the vector representation of a single word\n",
        "        if source not in ['glove', 'word2vec', 'fasttext']:\n",
        "            raise ValueError('Possible value of source are glove, word2vec or fasttext')\n",
        "\n",
        "        if source not in self.model:\n",
        "            raise ValueError('Did not load %s model yet' % source)\n",
        "\n",
        "        try:\n",
        "            return self.model[source][word]\n",
        "        except KeyError as e:\n",
        "            dims = self.model[source][0].shape\n",
        "            vect = np.empty(dims)\n",
        "            vect[:] = np.nan\n",
        "            return vect\n",
        "\n",
        "    def get_synonym(self, source, word, topn=5):\n",
        "\n",
        "        # Retrieves synonyms for a given word\n",
        "        if source not in ['glove', 'word2vec', 'fasttext']:\n",
        "            raise ValueError('Possible value of source are glove, word2vec or fasttext')\n",
        "\n",
        "        if source not in self.model:\n",
        "            raise ValueError('Did not load %s model yet' % source)\n",
        "\n",
        "        try:\n",
        "            return self.model[source].most_similar(positive=word, topn=topn)\n",
        "        except KeyError as e:\n",
        "            raise\n",
        "\n",
        "    def get_distance_between_two_words(self, source, word1, word2):\n",
        "\n",
        "        # Calculates cosine similarity between two words in the model\n",
        "        if source not in ['glove', 'word2vec', 'fasttext']:\n",
        "            raise ValueError('Possible value of source are glove, word2vec or fasttext')\n",
        "\n",
        "        if source not in self.model:\n",
        "            raise ValueError('Did not load %s model yet' % source)\n",
        "\n",
        "        try:\n",
        "            return self.model[source].similarity(word1, word2)\n",
        "        except KeyError as e:\n",
        "            raise"
      ],
      "metadata": {
        "id": "rRDuIvMlMNB1"
      },
      "execution_count": null,
      "outputs": []
    },
    {
      "cell_type": "code",
      "source": [
        "BASE_URL = '/content/drive/My Drive/dataset/pretrained_models'\n",
        "\n",
        "word2vec_file_path = f'{BASE_URL}/GoogleNews-vectors-negative300.bin'\n",
        "fasttext_file_path = f'{BASE_URL}/wiki-news-300d-1M.vec'\n",
        "\n",
        "# adding absolute path for correct gensim work\n",
        "downloaded_glove_file_path = f'{BASE_URL}/glove.6B.50d.txt'\n",
        "glove_file_path = f'{BASE_URL}/glove.6B.50d.vec'"
      ],
      "metadata": {
        "id": "P1DkWsREMQmM"
      },
      "execution_count": null,
      "outputs": []
    },
    {
      "cell_type": "code",
      "source": [
        "word_embedding = WordEmbedding()"
      ],
      "metadata": {
        "id": "-7zBcec4RtE6"
      },
      "execution_count": null,
      "outputs": []
    },
    {
      "cell_type": "code",
      "source": [
        "word_embedding.convert(source='glove', ipnut_file_path=downloaded_glove_file_path, output_file_path=glove_file_path)"
      ],
      "metadata": {
        "colab": {
          "base_uri": "https://localhost:8080/"
        },
        "id": "JUWeA7O5Rv5S",
        "outputId": "82a93193-89af-49a6-c17c-737f415e6b9c"
      },
      "execution_count": null,
      "outputs": [
        {
          "output_type": "stream",
          "name": "stderr",
          "text": [
            "<ipython-input-70-368ae0707321>:10: DeprecationWarning: Call to deprecated `glove2word2vec` (KeyedVectors.load_word2vec_format(.., binary=False, no_header=True) loads GLoVE text vectors.).\n",
            "  glove2word2vec(ipnut_file_path, output_file_path)\n"
          ]
        }
      ]
    },
    {
      "cell_type": "code",
      "source": [
        "def tok2vec(tokens, source:str, avg:str):\n",
        "    \"\"\"\n",
        "    Given a list of tokens, return their vector representation.\n",
        "    Args:\n",
        "        tokens: List(str) tokenized input\n",
        "        source: embedding algorithm to use with the WordEmbedding object\n",
        "        avg: vectors averaging method - `sum` or `mean` of all vectors\n",
        "    \"\"\"\n",
        "    vects = word_embedding.get_vectors(source=source, words=tokens)\n",
        "\n",
        "    if avg == 'mean':\n",
        "        return np.nanmean(vects, axis=0)\n",
        "    elif avg == 'sum':\n",
        "        return np.nansum(vects, axis=0)\n",
        "    else:\n",
        "        raise ValueError('Select correct averaging method: sum or mean')"
      ],
      "metadata": {
        "id": "awWi_B0PSL3x"
      },
      "execution_count": null,
      "outputs": []
    },
    {
      "cell_type": "code",
      "source": [
        "def get_preds(text_column, model_name, source, file_path ):\n",
        "\n",
        "    word_embedding.load(source=source, file_path=file_path)\n",
        "\n",
        "    X_train = data.loc[train_idxs, text_column].apply(\n",
        "        word_tokenize).apply(lambda x: tok2vec(x, source, 'mean')).to_numpy()\n",
        "\n",
        "    X_test = data.loc[test_idxs, text_column].apply(\n",
        "        word_tokenize).apply(lambda x: tok2vec(x, source, 'mean')).to_numpy()\n",
        "\n",
        "    X_train = np.stack(X_train, axis=0)\n",
        "    X_test = np.stack(X_test, axis=0)\n",
        "\n",
        "    y_train = data.loc[train_idxs, 'spam']\n",
        "    y_test = data.loc[test_idxs, 'spam']\n",
        "\n",
        "    imputer= SimpleImputer(strategy='most_frequent').set_output(transform='pandas')\n",
        "    X_train = imputer.fit_transform(X_train)\n",
        "    X_test = imputer.transform(X_test)\n",
        "\n",
        "    smote = SMOTE()\n",
        "    X_train, y_train = smote.fit_resample(X_train, y_train)\n",
        "\n",
        "    if model_name == 'logistic_regression':\n",
        "      model = LogisticRegression(random_state=42)\n",
        "    elif model_name =='random_forest':\n",
        "      model = RandomForestClassifier(n_jobs=1, random_state=42)\n",
        "\n",
        "    model.fit(X_train, y_train)\n",
        "\n",
        "    predictions = model.predict(X_test)\n",
        "\n",
        "    print('\\nAlgorithm: ', source.upper())\n",
        "    print('Model: ', model_name)\n",
        "    print('Text: ', text_column)\n",
        "    print('AUC: ', roc_auc_score(y_test, predictions))\n",
        "    print('Accuracy: ', accuracy_score(y_test, predictions))"
      ],
      "metadata": {
        "id": "FnOnEZcGfAj7"
      },
      "execution_count": null,
      "outputs": []
    },
    {
      "cell_type": "code",
      "source": [
        "get_preds('email_normalized', 'logistic_regression', 'word2vec', word2vec_file_path)"
      ],
      "metadata": {
        "colab": {
          "base_uri": "https://localhost:8080/"
        },
        "id": "txTcpC2dfBXa",
        "outputId": "e01b7c0f-0a1b-48a7-9b79-1043dcdda413"
      },
      "execution_count": null,
      "outputs": [
        {
          "output_type": "stream",
          "name": "stderr",
          "text": [
            "<ipython-input-74-a079732f43cc>:12: RuntimeWarning: Mean of empty slice\n",
            "  return np.nanmean(vects, axis=0)\n",
            "<ipython-input-74-a079732f43cc>:12: RuntimeWarning: Mean of empty slice\n",
            "  return np.nanmean(vects, axis=0)\n"
          ]
        },
        {
          "output_type": "stream",
          "name": "stdout",
          "text": [
            "\n",
            "Algorithm:  WORD2VEC\n",
            "Model:  logistic_regression\n",
            "Text:  email_normalized\n",
            "AUC:  0.9101818452963492\n",
            "Accuracy:  0.9332688588007737\n"
          ]
        }
      ]
    },
    {
      "cell_type": "code",
      "source": [
        "get_preds('email_normalized', 'random_forest', 'word2vec', word2vec_file_path)"
      ],
      "metadata": {
        "colab": {
          "base_uri": "https://localhost:8080/"
        },
        "id": "tueRLlRLDvCq",
        "outputId": "f9f2070c-9c58-4cff-82a9-f60b670c3611"
      },
      "execution_count": null,
      "outputs": [
        {
          "output_type": "stream",
          "name": "stderr",
          "text": [
            "<ipython-input-74-a079732f43cc>:12: RuntimeWarning: Mean of empty slice\n",
            "  return np.nanmean(vects, axis=0)\n",
            "<ipython-input-74-a079732f43cc>:12: RuntimeWarning: Mean of empty slice\n",
            "  return np.nanmean(vects, axis=0)\n"
          ]
        },
        {
          "output_type": "stream",
          "name": "stdout",
          "text": [
            "\n",
            "Algorithm:  WORD2VEC\n",
            "Model:  random_forest\n",
            "Text:  email_normalized\n",
            "AUC:  0.8930738472723204\n",
            "Accuracy:  0.9690522243713733\n"
          ]
        }
      ]
    },
    {
      "cell_type": "code",
      "source": [
        "get_preds('v2', 'logistic_regression', 'word2vec', word2vec_file_path)"
      ],
      "metadata": {
        "colab": {
          "base_uri": "https://localhost:8080/"
        },
        "id": "afAN0JxUfBZz",
        "outputId": "ffa5f242-08c1-4595-e0a8-9cc745cee8e7"
      },
      "execution_count": null,
      "outputs": [
        {
          "output_type": "stream",
          "name": "stderr",
          "text": [
            "<ipython-input-74-a079732f43cc>:12: RuntimeWarning: Mean of empty slice\n",
            "  return np.nanmean(vects, axis=0)\n",
            "<ipython-input-74-a079732f43cc>:12: RuntimeWarning: Mean of empty slice\n",
            "  return np.nanmean(vects, axis=0)\n"
          ]
        },
        {
          "output_type": "stream",
          "name": "stdout",
          "text": [
            "\n",
            "Algorithm:  WORD2VEC\n",
            "Model:  logistic_regression\n",
            "Text:  v2\n",
            "AUC:  0.9483637651576583\n",
            "Accuracy:  0.9613152804642167\n"
          ]
        }
      ]
    },
    {
      "cell_type": "code",
      "source": [
        "get_preds('v2', 'random_forest',  'word2vec', word2vec_file_path)"
      ],
      "metadata": {
        "colab": {
          "base_uri": "https://localhost:8080/"
        },
        "id": "UCYhgf37D2ZI",
        "outputId": "a996840a-f960-43f8-cfb8-c07aa52ead78"
      },
      "execution_count": null,
      "outputs": [
        {
          "output_type": "stream",
          "name": "stderr",
          "text": [
            "<ipython-input-74-a079732f43cc>:12: RuntimeWarning: Mean of empty slice\n",
            "  return np.nanmean(vects, axis=0)\n",
            "<ipython-input-74-a079732f43cc>:12: RuntimeWarning: Mean of empty slice\n",
            "  return np.nanmean(vects, axis=0)\n"
          ]
        },
        {
          "output_type": "stream",
          "name": "stdout",
          "text": [
            "\n",
            "Algorithm:  WORD2VEC\n",
            "Model:  random_forest\n",
            "Text:  v2\n",
            "AUC:  0.9374446588187046\n",
            "Accuracy:  0.9816247582205029\n"
          ]
        }
      ]
    },
    {
      "cell_type": "code",
      "source": [
        "get_preds('email_normalized', 'logistic_regression', 'glove', glove_file_path)"
      ],
      "metadata": {
        "colab": {
          "base_uri": "https://localhost:8080/"
        },
        "id": "q-2ueKZZfBcC",
        "outputId": "b5b3c1c0-563f-4b8a-d537-fd402506c13e"
      },
      "execution_count": null,
      "outputs": [
        {
          "output_type": "stream",
          "name": "stderr",
          "text": [
            "<ipython-input-74-a079732f43cc>:12: RuntimeWarning: Mean of empty slice\n",
            "  return np.nanmean(vects, axis=0)\n",
            "<ipython-input-74-a079732f43cc>:12: RuntimeWarning: Mean of empty slice\n",
            "  return np.nanmean(vects, axis=0)\n"
          ]
        },
        {
          "output_type": "stream",
          "name": "stdout",
          "text": [
            "\n",
            "Algorithm:  GLOVE\n",
            "Model:  logistic_regression\n",
            "Text:  email_normalized\n",
            "AUC:  0.863643989598188\n",
            "Accuracy:  0.8771760154738878\n"
          ]
        }
      ]
    },
    {
      "cell_type": "code",
      "source": [
        "get_preds('email_normalized', 'random_forest', 'glove', glove_file_path)"
      ],
      "metadata": {
        "colab": {
          "base_uri": "https://localhost:8080/"
        },
        "id": "WFGOUM_VD-pg",
        "outputId": "f25d5448-8c81-495f-9ce2-55ec2a4b8d84"
      },
      "execution_count": null,
      "outputs": [
        {
          "output_type": "stream",
          "name": "stderr",
          "text": [
            "<ipython-input-74-a079732f43cc>:12: RuntimeWarning: Mean of empty slice\n",
            "  return np.nanmean(vects, axis=0)\n",
            "<ipython-input-74-a079732f43cc>:12: RuntimeWarning: Mean of empty slice\n",
            "  return np.nanmean(vects, axis=0)\n"
          ]
        },
        {
          "output_type": "stream",
          "name": "stdout",
          "text": [
            "\n",
            "Algorithm:  GLOVE\n",
            "Model:  random_forest\n",
            "Text:  email_normalized\n",
            "AUC:  0.8775270530995721\n",
            "Accuracy:  0.9613152804642167\n"
          ]
        }
      ]
    },
    {
      "cell_type": "code",
      "source": [
        "get_preds('v2', 'logistic_regression', 'glove', glove_file_path)"
      ],
      "metadata": {
        "colab": {
          "base_uri": "https://localhost:8080/"
        },
        "id": "blEZ3GMYfBek",
        "outputId": "14462f0a-122a-4b9b-b4ab-eaf4f67101d2"
      },
      "execution_count": null,
      "outputs": [
        {
          "output_type": "stream",
          "name": "stderr",
          "text": [
            "<ipython-input-74-a079732f43cc>:12: RuntimeWarning: Mean of empty slice\n",
            "  return np.nanmean(vects, axis=0)\n",
            "<ipython-input-74-a079732f43cc>:12: RuntimeWarning: Mean of empty slice\n",
            "  return np.nanmean(vects, axis=0)\n"
          ]
        },
        {
          "output_type": "stream",
          "name": "stdout",
          "text": [
            "\n",
            "Algorithm:  GLOVE\n",
            "Model:  logistic_regression\n",
            "Text:  v2\n",
            "AUC:  0.8760077920383263\n",
            "Accuracy:  0.8858800773694391\n"
          ]
        }
      ]
    },
    {
      "cell_type": "code",
      "source": [
        "get_preds('v2', 'random_forest', 'glove', glove_file_path)"
      ],
      "metadata": {
        "colab": {
          "base_uri": "https://localhost:8080/"
        },
        "id": "KCh1OhJHEFbD",
        "outputId": "44f1842d-6fdf-4a71-b049-f8064ac9c414"
      },
      "execution_count": null,
      "outputs": [
        {
          "output_type": "stream",
          "name": "stderr",
          "text": [
            "<ipython-input-74-a079732f43cc>:12: RuntimeWarning: Mean of empty slice\n",
            "  return np.nanmean(vects, axis=0)\n",
            "<ipython-input-74-a079732f43cc>:12: RuntimeWarning: Mean of empty slice\n",
            "  return np.nanmean(vects, axis=0)\n"
          ]
        },
        {
          "output_type": "stream",
          "name": "stdout",
          "text": [
            "\n",
            "Algorithm:  GLOVE\n",
            "Model:  random_forest\n",
            "Text:  v2\n",
            "AUC:  0.8956230368444109\n",
            "Accuracy:  0.960348162475822\n"
          ]
        }
      ]
    },
    {
      "cell_type": "code",
      "source": [
        "get_preds('email_normalized', 'logistic_regression', 'fasttext', fasttext_file_path)"
      ],
      "metadata": {
        "colab": {
          "base_uri": "https://localhost:8080/"
        },
        "id": "RXHRFdaRXv-p",
        "outputId": "2e53ddc3-7aca-49e5-b3e5-f2c5e1b0ac97"
      },
      "execution_count": null,
      "outputs": [
        {
          "output_type": "stream",
          "name": "stderr",
          "text": [
            "<ipython-input-74-a079732f43cc>:12: RuntimeWarning: Mean of empty slice\n",
            "  return np.nanmean(vects, axis=0)\n",
            "<ipython-input-74-a079732f43cc>:12: RuntimeWarning: Mean of empty slice\n",
            "  return np.nanmean(vects, axis=0)\n"
          ]
        },
        {
          "output_type": "stream",
          "name": "stdout",
          "text": [
            "\n",
            "Algorithm:  FASTTEXT\n",
            "Model:  logistic_regression\n",
            "Text:  email_normalized\n",
            "AUC:  0.8940897948531537\n",
            "Accuracy:  0.9245647969052224\n"
          ]
        }
      ]
    },
    {
      "cell_type": "code",
      "source": [
        "get_preds('email_normalized', 'random_forest', 'fasttext', fasttext_file_path)"
      ],
      "metadata": {
        "colab": {
          "base_uri": "https://localhost:8080/"
        },
        "id": "pYJco4kvELgh",
        "outputId": "d022ad1f-ebee-4b98-ab20-56ce2211ccbf"
      },
      "execution_count": null,
      "outputs": [
        {
          "output_type": "stream",
          "name": "stderr",
          "text": [
            "<ipython-input-74-a079732f43cc>:12: RuntimeWarning: Mean of empty slice\n",
            "  return np.nanmean(vects, axis=0)\n",
            "<ipython-input-74-a079732f43cc>:12: RuntimeWarning: Mean of empty slice\n",
            "  return np.nanmean(vects, axis=0)\n"
          ]
        },
        {
          "output_type": "stream",
          "name": "stdout",
          "text": [
            "\n",
            "Algorithm:  FASTTEXT\n",
            "Model:  random_forest\n",
            "Text:  email_normalized\n",
            "AUC:  0.9006188891685075\n",
            "Accuracy:  0.9758220502901354\n"
          ]
        }
      ]
    },
    {
      "cell_type": "code",
      "source": [
        "get_preds('v2', 'logistic_regression', 'fasttext', fasttext_file_path)"
      ],
      "metadata": {
        "colab": {
          "base_uri": "https://localhost:8080/"
        },
        "id": "yobrxHaNYB5x",
        "outputId": "89f90935-9cc8-4744-9ecb-89253b45aa25"
      },
      "execution_count": null,
      "outputs": [
        {
          "output_type": "stream",
          "name": "stderr",
          "text": [
            "<ipython-input-74-a079732f43cc>:12: RuntimeWarning: Mean of empty slice\n",
            "  return np.nanmean(vects, axis=0)\n",
            "<ipython-input-74-a079732f43cc>:12: RuntimeWarning: Mean of empty slice\n",
            "  return np.nanmean(vects, axis=0)\n"
          ]
        },
        {
          "output_type": "stream",
          "name": "stdout",
          "text": [
            "\n",
            "Algorithm:  FASTTEXT\n",
            "Model:  logistic_regression\n",
            "Text:  v2\n",
            "AUC:  0.95254872354109\n",
            "Accuracy:  0.9555125725338491\n"
          ]
        }
      ]
    },
    {
      "cell_type": "code",
      "source": [
        "get_preds('v2', 'random_forest', 'fasttext', fasttext_file_path)"
      ],
      "metadata": {
        "colab": {
          "base_uri": "https://localhost:8080/"
        },
        "id": "lT21X6azE6jm",
        "outputId": "dd870db7-65c3-4db9-ac35-11987f63a63b"
      },
      "execution_count": null,
      "outputs": [
        {
          "output_type": "stream",
          "name": "stderr",
          "text": [
            "<ipython-input-74-a079732f43cc>:12: RuntimeWarning: Mean of empty slice\n",
            "  return np.nanmean(vects, axis=0)\n",
            "<ipython-input-74-a079732f43cc>:12: RuntimeWarning: Mean of empty slice\n",
            "  return np.nanmean(vects, axis=0)\n"
          ]
        },
        {
          "output_type": "stream",
          "name": "stdout",
          "text": [
            "\n",
            "Algorithm:  FASTTEXT\n",
            "Model:  random_forest\n",
            "Text:  v2\n",
            "AUC:  0.9288976502716961\n",
            "Accuracy:  0.9796905222437138\n"
          ]
        }
      ]
    },
    {
      "cell_type": "markdown",
      "source": [
        "## Висновки\n",
        "\n",
        "На основі результатів, отриманих під час проведення аналізу, можна зробити кілька важливих висновків:\n",
        "\n",
        "1. **Ефективність моделей**:\n",
        "   - Модель логістичної регресії, навчена на **ненормалізованих даних** з використанням методу CountVectorizer (CV) і модель LogisticRegression, показала найвищий AUC (0.934) і Accuracy (98.3%). Це вказує на високу здатність моделі правильно класифікувати дані.\n",
        "   - Другим за ефективністю варіантом є модель LogisticRegression, що використовує нормалізовані електронні листи (email_normalized) з методом CountVectorizer (CV), яка також продемонструвала вражаючий AUC (0.922) і Accuracy (98.1%).\n",
        "\n",
        "2. **Порівняння з Random Forest**:\n",
        "   - Хоча моделі Random Forest показують хороші результати, жодна з них не перевершує результати LogisticRegression за показниками AUC і Accuracy. Наприклад, модель Random Forest на основі **ненормалізованих даних** має AUC 0.893 та Accuracy 97.6%, що є нижчими значеннями в порівнянні з логістичною регресією.\n",
        "   \n",
        "3. **Вплив вектораізації**:\n",
        "   - Використання різних методів вектораізації (CountVectorizer, TFIDF, Word2Vec, GloVe, FastText) показало різні результати. LogisticRegression на основі Word2Vec для **ненормалізованих даних** показала AUC 0.948, що свідчить про ефективність цього методу векторизації.\n",
        "   - Хоча TFIDF також надавало хороші результати, Word2Vec та FastText виявилися більш ефективними.\n",
        "\n",
        "4. **Загальні результати**:\n",
        "   - Загалом, результати вказують на високу якість класифікації для всіх моделей, проте LogisticRegression виявилася найефективнішою у більшості випадків. Зокрема, важливо відзначити, що моделі на основі **ненормалізованих даних** показують кращі результати в порівнянні з тими, що використовують **email_normalized**.\n",
        "   - Використання n-грам у методах CountVectorizer та TFIDF призводить до погіршення результатів порівняно з використанням лише уніграм. Це можна побачити за зниженням метрик.\n",
        "   - Високі значення метрики Accuracy можуть свідчити про перенавчання моделі (overfitting). Однак, метрика AUC (Area Under the Curve) в даному випадку показує приблизно хороші результати, що вказує на те, що модель все ще здатна розрізняти класи та має прийнятну дискримінативну здатність.\n",
        "   Отже, хоча висока Accuracy може вводити в оману, AUC допомагає краще оцінити реальну ефективність моделі.\n",
        "\n"
      ],
      "metadata": {
        "id": "MeV7xyD_WsPp"
      }
    }
  ]
}